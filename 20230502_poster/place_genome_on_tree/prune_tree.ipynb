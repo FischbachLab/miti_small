{
 "cells": [
  {
   "cell_type": "code",
   "execution_count": 1,
   "metadata": {},
   "outputs": [
    {
     "name": "stderr",
     "output_type": "stream",
     "text": [
      "INFO:root:Starting\n"
     ]
    }
   ],
   "source": [
    "from cloudpathlib import CloudPath, AnyPath\n",
    "import treeViz as tv\n",
    "import pandas as pd\n",
    "import logging\n",
    "\n",
    "logging.basicConfig(level=logging.INFO)\n",
    "logging.info(\"Starting\")"
   ]
  },
  {
   "cell_type": "code",
   "execution_count": 2,
   "metadata": {},
   "outputs": [
    {
     "name": "stderr",
     "output_type": "stream",
     "text": [
      "INFO:botocore.credentials:Found credentials in shared credentials file: ~/.aws/credentials\n"
     ]
    }
   ],
   "source": [
    "prefix = \"20230502_MITI_Genomes_Tree\"\n",
    "output_dir = AnyPath(\"../data/generated/prune_tree/\")\n",
    "output_dir.mkdir(parents=True, exist_ok=True)\n",
    "\n",
    "formatted_names_file = AnyPath(\"../data/imported/display_names.csv\")\n",
    "\n",
    "processed_genomes = AnyPath(\"../data/generated/process_genomes\")\n",
    "processed_genomes.mkdir(parents=True, exist_ok=True)\n",
    "\n",
    "gtdb_tk_s3_basepath = CloudPath(\n",
    "    \"s3://genomics-workflow-core/Results/GTDB-tk-trees/MITI/20230502/classify\"\n",
    ")\n",
    "gtdb_tk_s3_summary_file = (\n",
    "    gtdb_tk_s3_basepath / \"gtdb.20230502_MITI_Genomes_Tree.bac120.summary.tsv\"\n",
    ")\n",
    "gtdb_tk_s3_tree_file = (\n",
    "    gtdb_tk_s3_basepath / \"gtdb.20230502_MITI_Genomes_Tree.bac120.classify.tree\"\n",
    ")\n",
    "\n",
    "summary_file = processed_genomes / gtdb_tk_s3_summary_file.name\n",
    "tree_file = processed_genomes / gtdb_tk_s3_tree_file.name"
   ]
  },
  {
   "cell_type": "code",
   "execution_count": 3,
   "metadata": {},
   "outputs": [
    {
     "data": {
      "text/plain": [
       "PosixPath('../data/generated/process_genomes/gtdb.20230502_MITI_Genomes_Tree.bac120.classify.tree')"
      ]
     },
     "execution_count": 3,
     "metadata": {},
     "output_type": "execute_result"
    }
   ],
   "source": [
    "# download file to processed_genomes\n",
    "gtdb_tk_s3_summary_file.download_to(summary_file)\n",
    "gtdb_tk_s3_tree_file.download_to(tree_file)"
   ]
  },
  {
   "cell_type": "code",
   "execution_count": 4,
   "metadata": {},
   "outputs": [],
   "source": [
    "summary_prefix = output_dir / prefix\n",
    "summary_prefix = summary_prefix.as_posix()\n",
    "summary_file = summary_file.as_posix()\n",
    "tree_file = tree_file.as_posix()\n",
    "# formatted_names_file = formatted_names_file.as_posix()"
   ]
  },
  {
   "cell_type": "code",
   "execution_count": 5,
   "metadata": {},
   "outputs": [
    {
     "name": "stderr",
     "output_type": "stream",
     "text": [
      "INFO:root:Final tree will contain 164 genomes.\n",
      "INFO:root:Found 8 levels at phylum rank.\n",
      "INFO:root:{'p__Actinobacteriota': '#a1c9f4', 'p__Bacteroidota': '#ffb482', 'p__Desulfobacterota_I': '#8de5a1', 'p__Firmicutes': '#ff9f9b', 'p__Firmicutes_A': '#d0bbff', 'p__Firmicutes_C': '#debb9b', 'p__Proteobacteria': '#fab0e4', 'p__Verrucomicrobiota': '#cfcfcf'}\n"
     ]
    }
   ],
   "source": [
    "genomes, color_dict, common_ancestor = tv.parse_summary_file(\n",
    "    summary_file, out_prefix=summary_prefix, color=True, taxa_rank=\"phylum\"\n",
    ")"
   ]
  },
  {
   "cell_type": "code",
   "execution_count": 6,
   "metadata": {},
   "outputs": [],
   "source": [
    "formatted_name_df = pd.read_csv(\n",
    "    formatted_names_file,\n",
    "    header=0,\n",
    "    usecols=[\"node_name\", \"display_name\"],\n",
    ")\n",
    "formatted_name_dict = dict(\n",
    "    zip(formatted_name_df.node_name, formatted_name_df.display_name)\n",
    ")"
   ]
  },
  {
   "attachments": {},
   "cell_type": "markdown",
   "metadata": {},
   "source": [
    "### Circular tree w/ Phylum color background"
   ]
  },
  {
   "cell_type": "code",
   "execution_count": 8,
   "metadata": {},
   "outputs": [
    {
     "name": "stderr",
     "output_type": "stream",
     "text": [
      "INFO:root:Pruning tree to 164 organisms ...\n",
      "INFO:root:Saving pruned tree in newick format ...\n",
      "INFO:root:Drawing pruned tree ...\n",
      "INFO:root:Adding some color to the tree of 164 organisms ...\n",
      "INFO:root:Saving pruned tree image ...\n"
     ]
    }
   ],
   "source": [
    "tree_prefix = output_dir / f\"{prefix}.circular_w_bgcolor\"\n",
    "tv.generate_tree(\n",
    "    tree_file,\n",
    "    genomes,\n",
    "    out_prefix=tree_prefix,\n",
    "    circular=True,\n",
    "    color_dict=color_dict,\n",
    "    common_ancestor=common_ancestor,\n",
    "    formatted_name_dict=formatted_name_dict,\n",
    ")"
   ]
  },
  {
   "attachments": {},
   "cell_type": "markdown",
   "metadata": {},
   "source": [
    "### Rectangular tree w/ Phylum color background"
   ]
  },
  {
   "cell_type": "code",
   "execution_count": 10,
   "metadata": {},
   "outputs": [
    {
     "name": "stderr",
     "output_type": "stream",
     "text": [
      "INFO:root:Pruning tree to 164 organisms ...\n",
      "INFO:root:Saving pruned tree in newick format ...\n",
      "INFO:root:Drawing pruned tree ...\n",
      "INFO:root:Adding some color to the tree of 164 organisms ...\n",
      "INFO:root:Saving pruned tree image ...\n"
     ]
    }
   ],
   "source": [
    "tree_prefix = output_dir / f\"{prefix}.rect_w_bgcolor\"\n",
    "tv.generate_tree(\n",
    "    tree_file,\n",
    "    genomes,\n",
    "    out_prefix=tree_prefix,\n",
    "    circular=False,\n",
    "    color_dict=color_dict,\n",
    "    common_ancestor=common_ancestor,\n",
    "    formatted_name_dict=formatted_name_dict,\n",
    ")"
   ]
  },
  {
   "attachments": {},
   "cell_type": "markdown",
   "metadata": {},
   "source": [
    "### Rectangular tree w/o color"
   ]
  },
  {
   "cell_type": "code",
   "execution_count": 11,
   "metadata": {},
   "outputs": [
    {
     "name": "stderr",
     "output_type": "stream",
     "text": [
      "INFO:root:Pruning tree to 164 organisms ...\n",
      "INFO:root:Saving pruned tree in newick format ...\n",
      "INFO:root:Drawing pruned tree ...\n",
      "INFO:root:Saving pruned tree image ...\n"
     ]
    }
   ],
   "source": [
    "tree_prefix = output_dir / f\"{prefix}.rect_no_color\"\n",
    "tv.generate_tree(\n",
    "    tree_file,\n",
    "    genomes,\n",
    "    out_prefix=tree_prefix,\n",
    "    circular=False,\n",
    "    color_dict=None,\n",
    "    common_ancestor=None,\n",
    "    formatted_name_dict=formatted_name_dict,\n",
    ")"
   ]
  },
  {
   "cell_type": "code",
   "execution_count": null,
   "metadata": {},
   "outputs": [],
   "source": []
  }
 ],
 "metadata": {
  "kernelspec": {
   "display_name": "trees",
   "language": "python",
   "name": "python3"
  },
  "language_info": {
   "codemirror_mode": {
    "name": "ipython",
    "version": 3
   },
   "file_extension": ".py",
   "mimetype": "text/x-python",
   "name": "python",
   "nbconvert_exporter": "python",
   "pygments_lexer": "ipython3",
   "version": "3.11.0"
  },
  "orig_nbformat": 4
 },
 "nbformat": 4,
 "nbformat_minor": 2
}
